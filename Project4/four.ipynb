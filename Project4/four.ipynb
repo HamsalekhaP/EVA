{
  "nbformat": 4,
  "nbformat_minor": 0,
  "metadata": {
    "colab": {
      "name": "4.ipynb",
      "version": "0.3.2",
      "provenance": [],
      "collapsed_sections": []
    },
    "kernelspec": {
      "name": "python3",
      "display_name": "Python 3"
    },
    "accelerator": "GPU"
  },
  "cells": [
    {
      "cell_type": "markdown",
      "metadata": {
        "id": "aNyZv-Ec52ot",
        "colab_type": "text"
      },
      "source": [
        "## This iterations will observe\n",
        "\n",
        "\n",
        "1.   Tweaking hyperparameters ( drop out values, batch size and epochs)\n",
        "2.   Optimise the parameters by changing the number of filter\n",
        "3.   Experiment with Optimiser and learning rate\n",
        "\n",
        "\n"
      ]
    },
    {
      "cell_type": "code",
      "metadata": {
        "id": "3m3w1Cw49Zkt",
        "colab_type": "code",
        "colab": {}
      },
      "source": [
        "# https://keras.io/\n",
        "!pip install -q keras\n",
        "import keras"
      ],
      "execution_count": 0,
      "outputs": []
    },
    {
      "cell_type": "code",
      "metadata": {
        "id": "Eso6UHE080D4",
        "colab_type": "code",
        "colab": {}
      },
      "source": [
        "import numpy as np\n",
        "\n",
        "from keras.models import Sequential\n",
        "from keras.layers import Dense, Dropout, Activation, Flatten, Add,BatchNormalization\n",
        "from keras.layers import Convolution2D, Conv2D, MaxPooling2D\n",
        "from keras.utils import np_utils\n",
        "\n",
        "from keras.datasets import mnist"
      ],
      "execution_count": 0,
      "outputs": []
    },
    {
      "cell_type": "markdown",
      "metadata": {
        "id": "zByEi95J86RD",
        "colab_type": "text"
      },
      "source": [
        "### Load pre-shuffled MNIST data into train and test sets"
      ]
    },
    {
      "cell_type": "code",
      "metadata": {
        "id": "7eRM0QWN83PV",
        "colab_type": "code",
        "colab": {}
      },
      "source": [
        "(X_train, y_train), (X_test, y_test) = mnist.load_data()"
      ],
      "execution_count": 0,
      "outputs": []
    },
    {
      "cell_type": "code",
      "metadata": {
        "id": "4a4Be72j8-ZC",
        "colab_type": "code",
        "outputId": "da84ae30-4439-468c-cea4-f135c4b80e33",
        "colab": {
          "base_uri": "https://localhost:8080/",
          "height": 303
        }
      },
      "source": [
        "print (X_train.shape)\n",
        "from matplotlib import pyplot as plt\n",
        "%matplotlib inline\n",
        "plt.imshow(X_train[0])"
      ],
      "execution_count": 225,
      "outputs": [
        {
          "output_type": "stream",
          "text": [
            "(60000, 28, 28)\n"
          ],
          "name": "stdout"
        },
        {
          "output_type": "execute_result",
          "data": {
            "text/plain": [
              "<matplotlib.image.AxesImage at 0x7f9512e115c0>"
            ]
          },
          "metadata": {
            "tags": []
          },
          "execution_count": 225
        },
        {
          "output_type": "display_data",
          "data": {
            "image/png": "[encoded data removed]",
            "text/plain": [
              "<Figure size 432x288 with 1 Axes>"
            ]
          },
          "metadata": {
            "tags": []
          }
        }
      ]
    },
    {
      "cell_type": "code",
      "metadata": {
        "id": "dkmprriw9AnZ",
        "colab_type": "code",
        "colab": {}
      },
      "source": [
        "X_train = X_train.reshape(X_train.shape[0], 28, 28,1)\n",
        "X_test = X_test.reshape(X_test.shape[0], 28, 28,1)"
      ],
      "execution_count": 0,
      "outputs": []
    },
    {
      "cell_type": "code",
      "metadata": {
        "id": "X2m4YS4E9CRh",
        "colab_type": "code",
        "colab": {}
      },
      "source": [
        "X_train = X_train.astype('float32')\n",
        "X_test = X_test.astype('float32')\n",
        "X_train /= 255\n",
        "X_test /= 255"
      ],
      "execution_count": 0,
      "outputs": []
    },
    {
      "cell_type": "code",
      "metadata": {
        "id": "0Mn0vAYD9DvB",
        "colab_type": "code",
        "outputId": "1b8f2547-bf47-4f24-e88d-fb480ec3cbd1",
        "colab": {
          "base_uri": "https://localhost:8080/",
          "height": 34
        }
      },
      "source": [
        "y_train[:10]"
      ],
      "execution_count": 228,
      "outputs": [
        {
          "output_type": "execute_result",
          "data": {
            "text/plain": [
              "array([5, 0, 4, 1, 9, 2, 1, 3, 1, 4], dtype=uint8)"
            ]
          },
          "metadata": {
            "tags": []
          },
          "execution_count": 228
        }
      ]
    },
    {
      "cell_type": "code",
      "metadata": {
        "id": "ZG8JiXR39FHC",
        "colab_type": "code",
        "colab": {}
      },
      "source": [
        "# Convert 1-dimensional class arrays to 10-dimensional class matrices\n",
        "Y_train = np_utils.to_categorical(y_train, 10)\n",
        "Y_test = np_utils.to_categorical(y_test, 10)"
      ],
      "execution_count": 0,
      "outputs": []
    },
    {
      "cell_type": "code",
      "metadata": {
        "id": "fYlFRvKS9HMB",
        "colab_type": "code",
        "outputId": "cdc18f01-c7f7-4045-c214-8e9680e5d887",
        "colab": {
          "base_uri": "https://localhost:8080/",
          "height": 187
        }
      },
      "source": [
        "Y_train[:10]\n"
      ],
      "execution_count": 230,
      "outputs": [
        {
          "output_type": "execute_result",
          "data": {
            "text/plain": [
              "array([[0., 0., 0., 0., 0., 1., 0., 0., 0., 0.],\n",
              "       [1., 0., 0., 0., 0., 0., 0., 0., 0., 0.],\n",
              "       [0., 0., 0., 0., 1., 0., 0., 0., 0., 0.],\n",
              "       [0., 1., 0., 0., 0., 0., 0., 0., 0., 0.],\n",
              "       [0., 0., 0., 0., 0., 0., 0., 0., 0., 1.],\n",
              "       [0., 0., 1., 0., 0., 0., 0., 0., 0., 0.],\n",
              "       [0., 1., 0., 0., 0., 0., 0., 0., 0., 0.],\n",
              "       [0., 0., 0., 1., 0., 0., 0., 0., 0., 0.],\n",
              "       [0., 1., 0., 0., 0., 0., 0., 0., 0., 0.],\n",
              "       [0., 0., 0., 0., 1., 0., 0., 0., 0., 0.]], dtype=float32)"
            ]
          },
          "metadata": {
            "tags": []
          },
          "execution_count": 230
        }
      ]
    },
    {
      "cell_type": "code",
      "metadata": {
        "id": "osKqT73Q9JJB",
        "colab_type": "code",
        "colab": {}
      },
      "source": [
        "from keras.layers import Activation\n",
        "model = Sequential()\n",
        "\n",
        "\n",
        "model.add(Conv2D(10, (3,3), activation='relu', input_shape=(28,28,1))) #26x26x16, RF 3x3\n",
        "model.add(BatchNormalization())\n",
        "\n",
        "\n",
        "model.add(Conv2D(16, (3,3), activation='relu')) # 24x24x16 , RF 5x5\n",
        "model.add(BatchNormalization())\n",
        "model.add(Dropout(0.2))\n",
        "\n",
        "model.add(Conv2D(30, (3,3), activation='relu')) # 22x22x32 , RF 7x7\n",
        "model.add(BatchNormalization())\n",
        "model.add(Dropout(0.2))\n",
        "\n",
        "model.add(MaxPooling2D(pool_size=(2, 2))) # 11x11x32 , RF 14x14\n",
        "model.add(Conv2D(10, (1, 1), activation='relu')) # 11x11x16\n",
        "model.add(BatchNormalization())\n",
        "model.add(Dropout(0.2))\n",
        "\n",
        "model.add(Conv2D(16, (3,3), activation='relu')) # 9x9x32 , RF 16x16\n",
        "model.add(BatchNormalization())\n",
        "model.add(Dropout(0.2))\n",
        "\n",
        "model.add(Conv2D(16, (3,3), activation='relu')) # 7x7x64 , RF 18x18\n",
        "model.add(BatchNormalization())\n",
        "model.add(Dropout(0.2))\n",
        "\n",
        "model.add(Conv2D(10, 1, activation='relu')) # 7x7x8\n",
        "\n",
        "model.add(Conv2D(10, (3,3), activation='relu')) # 5x5x8 , RF 20x20\n",
        "model.add(BatchNormalization())\n",
        "model.add(Conv2D(10, (3,3), activation='relu')) # 3x3x8 , RF 22x22\n",
        "model.add(BatchNormalization())\n",
        "\n",
        "model.add(Conv2D(10, 3)) # 1x1x10\n",
        "model.add(Flatten()) # 1x10\n",
        "model.add(Activation('softmax'))\n",
        " "
      ],
      "execution_count": 0,
      "outputs": []
    },
    {
      "cell_type": "code",
      "metadata": {
        "id": "TzdAYg1k9K7Z",
        "colab_type": "code",
        "outputId": "8cda6ab0-534c-4484-8502-2db8c44f2653",
        "colab": {
          "base_uri": "https://localhost:8080/",
          "height": 1020
        }
      },
      "source": [
        "model.summary()"
      ],
      "execution_count": 231,
      "outputs": [
        {
          "output_type": "stream",
          "text": [
            "_________________________________________________________________\n",
            "Layer (type)                 Output Shape              Param #   \n",
            "=================================================================\n",
            "conv2d_162 (Conv2D)          (None, 26, 26, 10)        100       \n",
            "_________________________________________________________________\n",
            "batch_normalization_129 (Bat (None, 26, 26, 10)        40        \n",
            "_________________________________________________________________\n",
            "conv2d_163 (Conv2D)          (None, 24, 24, 16)        1456      \n",
            "_________________________________________________________________\n",
            "batch_normalization_130 (Bat (None, 24, 24, 16)        64        \n",
            "_________________________________________________________________\n",
            "dropout_63 (Dropout)         (None, 24, 24, 16)        0         \n",
            "_________________________________________________________________\n",
            "conv2d_164 (Conv2D)          (None, 22, 22, 30)        4350      \n",
            "_________________________________________________________________\n",
            "batch_normalization_131 (Bat (None, 22, 22, 30)        120       \n",
            "_________________________________________________________________\n",
            "dropout_64 (Dropout)         (None, 22, 22, 30)        0         \n",
            "_________________________________________________________________\n",
            "max_pooling2d_17 (MaxPooling (None, 11, 11, 30)        0         \n",
            "_________________________________________________________________\n",
            "conv2d_165 (Conv2D)          (None, 11, 11, 10)        310       \n",
            "_________________________________________________________________\n",
            "batch_normalization_132 (Bat (None, 11, 11, 10)        40        \n",
            "_________________________________________________________________\n",
            "dropout_65 (Dropout)         (None, 11, 11, 10)        0         \n",
            "_________________________________________________________________\n",
            "conv2d_166 (Conv2D)          (None, 9, 9, 16)          1456      \n",
            "_________________________________________________________________\n",
            "batch_normalization_133 (Bat (None, 9, 9, 16)          64        \n",
            "_________________________________________________________________\n",
            "dropout_66 (Dropout)         (None, 9, 9, 16)          0         \n",
            "_________________________________________________________________\n",
            "conv2d_167 (Conv2D)          (None, 7, 7, 16)          2320      \n",
            "_________________________________________________________________\n",
            "batch_normalization_134 (Bat (None, 7, 7, 16)          64        \n",
            "_________________________________________________________________\n",
            "dropout_67 (Dropout)         (None, 7, 7, 16)          0         \n",
            "_________________________________________________________________\n",
            "conv2d_168 (Conv2D)          (None, 7, 7, 10)          170       \n",
            "_________________________________________________________________\n",
            "conv2d_169 (Conv2D)          (None, 5, 5, 10)          910       \n",
            "_________________________________________________________________\n",
            "batch_normalization_135 (Bat (None, 5, 5, 10)          40        \n",
            "_________________________________________________________________\n",
            "conv2d_170 (Conv2D)          (None, 3, 3, 10)          910       \n",
            "_________________________________________________________________\n",
            "batch_normalization_136 (Bat (None, 3, 3, 10)          40        \n",
            "_________________________________________________________________\n",
            "conv2d_171 (Conv2D)          (None, 1, 1, 10)          910       \n",
            "_________________________________________________________________\n",
            "flatten_17 (Flatten)         (None, 10)                0         \n",
            "_________________________________________________________________\n",
            "activation_17 (Activation)   (None, 10)                0         \n",
            "=================================================================\n",
            "Total params: 13,364\n",
            "Trainable params: 13,128\n",
            "Non-trainable params: 236\n",
            "_________________________________________________________________\n"
          ],
          "name": "stdout"
        }
      ]
    },
    {
      "cell_type": "code",
      "metadata": {
        "id": "Zp6SuGrL9M3h",
        "colab_type": "code",
        "colab": {
          "base_uri": "https://localhost:8080/",
          "height": 2771
        },
        "outputId": "f2d2aecb-ee57-4f63-9d5e-00c09533be67"
      },
      "source": [
        "from keras.optimizers import Adam\n",
        "from keras.callbacks import LearningRateScheduler\n",
        "def scheduler(epoch, lr):\n",
        "  return round(0.0032 * 1/(1 + 0.319 * epoch), 10)\n",
        "\n",
        "model.compile(loss='categorical_crossentropy', optimizer=Adam(lr=0.0032), metrics=['accuracy'])\n",
        "\n",
        "model.fit(X_train, Y_train, batch_size=128, epochs=40, verbose=1, validation_data=(X_test, Y_test), callbacks=[LearningRateScheduler(scheduler, verbose=1)])"
      ],
      "execution_count": 243,
      "outputs": [
        {
          "output_type": "stream",
          "text": [
            "Train on 60000 samples, validate on 10000 samples\n",
            "Epoch 1/40\n",
            "\n",
            "Epoch 00001: LearningRateScheduler setting learning rate to 0.0032.\n",
            "60000/60000 [==============================] - 26s 427us/step - loss: 0.0375 - acc: 0.9878 - val_loss: 0.0399 - val_acc: 0.9883\n",
            "Epoch 2/40\n",
            "\n",
            "Epoch 00002: LearningRateScheduler setting learning rate to 0.0024260804.\n",
            "60000/60000 [==============================] - 9s 143us/step - loss: 0.0295 - acc: 0.9907 - val_loss: 0.0300 - val_acc: 0.9907\n",
            "Epoch 3/40\n",
            "\n",
            "Epoch 00003: LearningRateScheduler setting learning rate to 0.001953602.\n",
            "60000/60000 [==============================] - 9s 143us/step - loss: 0.0259 - acc: 0.9917 - val_loss: 0.0297 - val_acc: 0.9909\n",
            "Epoch 4/40\n",
            "\n",
            "Epoch 00004: LearningRateScheduler setting learning rate to 0.0016351559.\n",
            "60000/60000 [==============================] - 9s 158us/step - loss: 0.0238 - acc: 0.9918 - val_loss: 0.0237 - val_acc: 0.9927\n",
            "Epoch 5/40\n",
            "\n",
            "Epoch 00005: LearningRateScheduler setting learning rate to 0.0014059754.\n",
            "60000/60000 [==============================] - 9s 144us/step - loss: 0.0229 - acc: 0.9925 - val_loss: 0.0289 - val_acc: 0.9924\n",
            "Epoch 6/40\n",
            "\n",
            "Epoch 00006: LearningRateScheduler setting learning rate to 0.0012331407.\n",
            "60000/60000 [==============================] - 9s 143us/step - loss: 0.0226 - acc: 0.9928 - val_loss: 0.0256 - val_acc: 0.9930\n",
            "Epoch 7/40\n",
            "\n",
            "Epoch 00007: LearningRateScheduler setting learning rate to 0.0010981469.\n",
            "60000/60000 [==============================] - 9s 151us/step - loss: 0.0205 - acc: 0.9937 - val_loss: 0.0249 - val_acc: 0.9922\n",
            "Epoch 8/40\n",
            "\n",
            "Epoch 00008: LearningRateScheduler setting learning rate to 0.0009897928.\n",
            "60000/60000 [==============================] - 9s 144us/step - loss: 0.0204 - acc: 0.9931 - val_loss: 0.0296 - val_acc: 0.9922\n",
            "Epoch 9/40\n",
            "\n",
            "Epoch 00009: LearningRateScheduler setting learning rate to 0.0009009009.\n",
            "60000/60000 [==============================] - 9s 143us/step - loss: 0.0189 - acc: 0.9938 - val_loss: 0.0217 - val_acc: 0.9939\n",
            "Epoch 10/40\n",
            "\n",
            "Epoch 00010: LearningRateScheduler setting learning rate to 0.0008266598.\n",
            "60000/60000 [==============================] - 10s 160us/step - loss: 0.0184 - acc: 0.9940 - val_loss: 0.0238 - val_acc: 0.9933\n",
            "Epoch 11/40\n",
            "\n",
            "Epoch 00011: LearningRateScheduler setting learning rate to 0.0007637232.\n",
            "60000/60000 [==============================] - 9s 146us/step - loss: 0.0179 - acc: 0.9943 - val_loss: 0.0276 - val_acc: 0.9917\n",
            "Epoch 12/40\n",
            "\n",
            "Epoch 00012: LearningRateScheduler setting learning rate to 0.0007096917.\n",
            "60000/60000 [==============================] - 9s 144us/step - loss: 0.0181 - acc: 0.9939 - val_loss: 0.0262 - val_acc: 0.9926\n",
            "Epoch 13/40\n",
            "\n",
            "Epoch 00013: LearningRateScheduler setting learning rate to 0.0006628003.\n",
            "60000/60000 [==============================] - 9s 155us/step - loss: 0.0174 - acc: 0.9940 - val_loss: 0.0251 - val_acc: 0.9925\n",
            "Epoch 14/40\n",
            "\n",
            "Epoch 00014: LearningRateScheduler setting learning rate to 0.0006217214.\n",
            "60000/60000 [==============================] - 9s 145us/step - loss: 0.0176 - acc: 0.9942 - val_loss: 0.0245 - val_acc: 0.9935\n",
            "Epoch 15/40\n",
            "\n",
            "Epoch 00015: LearningRateScheduler setting learning rate to 0.0005854372.\n",
            "60000/60000 [==============================] - 9s 144us/step - loss: 0.0163 - acc: 0.9943 - val_loss: 0.0250 - val_acc: 0.9924\n",
            "Epoch 16/40\n",
            "\n",
            "Epoch 00016: LearningRateScheduler setting learning rate to 0.0005531547.\n",
            "60000/60000 [==============================] - 9s 146us/step - loss: 0.0168 - acc: 0.9944 - val_loss: 0.0244 - val_acc: 0.9937\n",
            "Epoch 17/40\n",
            "\n",
            "Epoch 00017: LearningRateScheduler setting learning rate to 0.0005242464.\n",
            "60000/60000 [==============================] - 9s 143us/step - loss: 0.0164 - acc: 0.9947 - val_loss: 0.0226 - val_acc: 0.9935\n",
            "Epoch 18/40\n",
            "\n",
            "Epoch 00018: LearningRateScheduler setting learning rate to 0.0004982096.\n",
            "60000/60000 [==============================] - 9s 143us/step - loss: 0.0162 - acc: 0.9948 - val_loss: 0.0243 - val_acc: 0.9939\n",
            "Epoch 19/40\n",
            "\n",
            "Epoch 00019: LearningRateScheduler setting learning rate to 0.0004746366.\n",
            "60000/60000 [==============================] - 9s 143us/step - loss: 0.0159 - acc: 0.9948 - val_loss: 0.0243 - val_acc: 0.9938\n",
            "Epoch 20/40\n",
            "\n",
            "Epoch 00020: LearningRateScheduler setting learning rate to 0.0004531936.\n",
            "60000/60000 [==============================] - 9s 142us/step - loss: 0.0154 - acc: 0.9951 - val_loss: 0.0232 - val_acc: 0.9938\n",
            "Epoch 21/40\n",
            "\n",
            "Epoch 00021: LearningRateScheduler setting learning rate to 0.0004336043.\n",
            "60000/60000 [==============================] - 9s 142us/step - loss: 0.0143 - acc: 0.9951 - val_loss: 0.0249 - val_acc: 0.9939\n",
            "Epoch 22/40\n",
            "\n",
            "Epoch 00022: LearningRateScheduler setting learning rate to 0.0004156384.\n",
            "60000/60000 [==============================] - 9s 152us/step - loss: 0.0150 - acc: 0.9955 - val_loss: 0.0232 - val_acc: 0.9937\n",
            "Epoch 23/40\n",
            "\n",
            "Epoch 00023: LearningRateScheduler setting learning rate to 0.000399102.\n",
            "60000/60000 [==============================] - 9s 149us/step - loss: 0.0146 - acc: 0.9955 - val_loss: 0.0218 - val_acc: 0.9940\n",
            "Epoch 24/40\n",
            "\n",
            "Epoch 00024: LearningRateScheduler setting learning rate to 0.0003838311.\n",
            "60000/60000 [==============================] - 9s 143us/step - loss: 0.0143 - acc: 0.9953 - val_loss: 0.0228 - val_acc: 0.9939\n",
            "Epoch 25/40\n",
            "\n",
            "Epoch 00025: LearningRateScheduler setting learning rate to 0.0003696858.\n",
            "60000/60000 [==============================] - 9s 143us/step - loss: 0.0144 - acc: 0.9953 - val_loss: 0.0245 - val_acc: 0.9940\n",
            "Epoch 26/40\n",
            "\n",
            "Epoch 00026: LearningRateScheduler setting learning rate to 0.000356546.\n",
            "60000/60000 [==============================] - 9s 142us/step - loss: 0.0150 - acc: 0.9951 - val_loss: 0.0226 - val_acc: 0.9935\n",
            "Epoch 27/40\n",
            "\n",
            "Epoch 00027: LearningRateScheduler setting learning rate to 0.0003443082.\n",
            "60000/60000 [==============================] - 9s 144us/step - loss: 0.0149 - acc: 0.9949 - val_loss: 0.0239 - val_acc: 0.9935\n",
            "Epoch 28/40\n",
            "\n",
            "Epoch 00028: LearningRateScheduler setting learning rate to 0.0003328826.\n",
            "60000/60000 [==============================] - 9s 144us/step - loss: 0.0152 - acc: 0.9951 - val_loss: 0.0221 - val_acc: 0.9941\n",
            "Epoch 29/40\n",
            "\n",
            "Epoch 00029: LearningRateScheduler setting learning rate to 0.0003221909.\n",
            "60000/60000 [==============================] - 9s 143us/step - loss: 0.0135 - acc: 0.9955 - val_loss: 0.0247 - val_acc: 0.9938\n",
            "Epoch 30/40\n",
            "\n",
            "Epoch 00030: LearningRateScheduler setting learning rate to 0.0003121647.\n",
            "60000/60000 [==============================] - 9s 144us/step - loss: 0.0132 - acc: 0.9958 - val_loss: 0.0241 - val_acc: 0.9933\n",
            "Epoch 31/40\n",
            "\n",
            "Epoch 00031: LearningRateScheduler setting learning rate to 0.0003027436.\n",
            "60000/60000 [==============================] - 9s 148us/step - loss: 0.0136 - acc: 0.9955 - val_loss: 0.0226 - val_acc: 0.9934\n",
            "Epoch 32/40\n",
            "\n",
            "Epoch 00032: LearningRateScheduler setting learning rate to 0.0002938746.\n",
            "60000/60000 [==============================] - 9s 152us/step - loss: 0.0127 - acc: 0.9956 - val_loss: 0.0239 - val_acc: 0.9939\n",
            "Epoch 33/40\n",
            "\n",
            "Epoch 00033: LearningRateScheduler setting learning rate to 0.0002855103.\n",
            "60000/60000 [==============================] - 9s 142us/step - loss: 0.0131 - acc: 0.9957 - val_loss: 0.0229 - val_acc: 0.9939\n",
            "Epoch 34/40\n",
            "\n",
            "Epoch 00034: LearningRateScheduler setting learning rate to 0.0002776091.\n",
            "60000/60000 [==============================] - 9s 143us/step - loss: 0.0132 - acc: 0.9956 - val_loss: 0.0242 - val_acc: 0.9943\n",
            "Epoch 35/40\n",
            "\n",
            "Epoch 00035: LearningRateScheduler setting learning rate to 0.0002701334.\n",
            "60000/60000 [==============================] - 9s 144us/step - loss: 0.0125 - acc: 0.9962 - val_loss: 0.0232 - val_acc: 0.9938\n",
            "Epoch 36/40\n",
            "\n",
            "Epoch 00036: LearningRateScheduler setting learning rate to 0.0002630497.\n",
            "60000/60000 [==============================] - 9s 144us/step - loss: 0.0133 - acc: 0.9956 - val_loss: 0.0238 - val_acc: 0.9935\n",
            "Epoch 37/40\n",
            "\n",
            "Epoch 00037: LearningRateScheduler setting learning rate to 0.0002563281.\n",
            "60000/60000 [==============================] - 9s 143us/step - loss: 0.0136 - acc: 0.9955 - val_loss: 0.0233 - val_acc: 0.9935\n",
            "Epoch 38/40\n",
            "\n",
            "Epoch 00038: LearningRateScheduler setting learning rate to 0.0002499414.\n",
            "60000/60000 [==============================] - 9s 142us/step - loss: 0.0122 - acc: 0.9960 - val_loss: 0.0238 - val_acc: 0.9937\n",
            "Epoch 39/40\n",
            "\n",
            "Epoch 00039: LearningRateScheduler setting learning rate to 0.0002438653.\n",
            "60000/60000 [==============================] - 9s 144us/step - loss: 0.0128 - acc: 0.9958 - val_loss: 0.0239 - val_acc: 0.9930\n",
            "Epoch 40/40\n",
            "\n",
            "Epoch 00040: LearningRateScheduler setting learning rate to 0.0002380775.\n",
            "60000/60000 [==============================] - 9s 146us/step - loss: 0.0131 - acc: 0.9956 - val_loss: 0.0229 - val_acc: 0.9937\n"
          ],
          "name": "stdout"
        },
        {
          "output_type": "execute_result",
          "data": {
            "text/plain": [
              "<keras.callbacks.History at 0x7f950df005c0>"
            ]
          },
          "metadata": {
            "tags": []
          },
          "execution_count": 243
        }
      ]
    },
    {
      "cell_type": "code",
      "metadata": {
        "id": "AtsH-lLk-eLb",
        "colab_type": "code",
        "colab": {}
      },
      "source": [
        "score = model.evaluate(X_test, Y_test, verbose=0)"
      ],
      "execution_count": 0,
      "outputs": []
    },
    {
      "cell_type": "code",
      "metadata": {
        "id": "mkX8JMv79q9r",
        "colab_type": "code",
        "outputId": "a6cba1ca-66a3-4422-98a6-b7f30ab4a36b",
        "colab": {
          "base_uri": "https://localhost:8080/",
          "height": 34
        }
      },
      "source": [
        "print(score)"
      ],
      "execution_count": 245,
      "outputs": [
        {
          "output_type": "stream",
          "text": [
            "[0.0229351354986582, 0.9937]\n"
          ],
          "name": "stdout"
        }
      ]
    },
    {
      "cell_type": "code",
      "metadata": {
        "id": "OCWoJkwE9suh",
        "colab_type": "code",
        "colab": {}
      },
      "source": [
        "y_pred = model.predict(X_test)"
      ],
      "execution_count": 0,
      "outputs": []
    },
    {
      "cell_type": "code",
      "metadata": {
        "id": "Ym7iCFBm9uBs",
        "colab_type": "code",
        "outputId": "78a9ad5f-ff05-4c64-ddac-5c1a7d0126fb",
        "colab": {
          "base_uri": "https://localhost:8080/",
          "height": 340
        }
      },
      "source": [
        "print(y_pred[:9])\n",
        "print(y_test[:9])"
      ],
      "execution_count": 247,
      "outputs": [
        {
          "output_type": "stream",
          "text": [
            "[[1.5647343e-08 6.8034944e-07 6.1803075e-07 1.7937474e-06 9.2943843e-08\n",
            "  2.4317124e-08 5.8384328e-14 9.9999666e-01 5.2531774e-11 6.8371250e-08]\n",
            " [1.8753135e-09 1.9284989e-06 9.9999809e-01 3.3299452e-10 2.4456480e-11\n",
            "  1.6743807e-12 1.4233262e-08 3.6497209e-08 1.5350352e-10 7.4291549e-13]\n",
            " [4.4313407e-12 9.9999976e-01 8.9280150e-10 8.5866717e-11 5.5546043e-09\n",
            "  7.9993129e-10 3.2292968e-10 2.0738491e-07 2.7996307e-11 2.8462988e-09]\n",
            " [9.9998546e-01 1.6751613e-12 9.5004699e-12 3.1376780e-11 5.6614753e-09\n",
            "  1.2009300e-08 1.4572467e-05 1.9872576e-10 2.4069198e-08 1.4428819e-08]\n",
            " [2.6654844e-12 6.0545774e-12 2.3981685e-12 1.3903997e-11 9.9999940e-01\n",
            "  5.0260985e-12 7.9157120e-10 2.9032374e-10 5.5976096e-10 5.8225231e-07]\n",
            " [1.8696661e-11 9.9999869e-01 5.0154632e-09 7.3398527e-12 3.4494434e-08\n",
            "  7.3158583e-11 1.9887966e-10 1.3316507e-06 6.9223821e-11 1.8238969e-08]\n",
            " [7.4390537e-12 5.2259686e-08 2.3015007e-06 4.2589194e-09 9.9996543e-01\n",
            "  1.4928965e-08 1.6703191e-09 3.2324158e-06 8.9041649e-08 2.8930332e-05]\n",
            " [2.4964433e-11 5.1763136e-09 6.7192887e-09 1.8689288e-08 9.2776521e-05\n",
            "  3.5343810e-08 5.9251523e-12 1.2094472e-07 9.7231452e-07 9.9990606e-01]\n",
            " [1.2071703e-07 1.5116861e-08 5.5991176e-08 3.2802699e-08 2.4551094e-11\n",
            "  9.9899608e-01 9.9944952e-04 3.3743000e-10 4.2374704e-06 1.0567778e-07]]\n",
            "[7 2 1 0 4 1 4 9 5]\n"
          ],
          "name": "stdout"
        }
      ]
    },
    {
      "cell_type": "code",
      "metadata": {
        "id": "CT--y98_dr2T",
        "colab_type": "code",
        "colab": {}
      },
      "source": [
        "layer_dict = dict([(layer.name, layer) for layer in model.layers])"
      ],
      "execution_count": 0,
      "outputs": []
    },
    {
      "cell_type": "code",
      "metadata": {
        "id": "2GY4Upv4dsUR",
        "colab_type": "code",
        "outputId": "7e60f0c7-2a49-4c1d-b8b9-ac4fef68ec33",
        "colab": {
          "base_uri": "https://localhost:8080/",
          "height": 316
        }
      },
      "source": [
        "import numpy as np\n",
        "from matplotlib import pyplot as plt\n",
        "from keras import backend as K\n",
        "%matplotlib inline\n",
        "# util function to convert a tensor into a valid image\n",
        "def deprocess_image(x):\n",
        "    # normalize tensor: center on 0., ensure std is 0.1\n",
        "    x -= x.mean()\n",
        "    x /= (x.std() + 1e-5)\n",
        "    x *= 0.1\n",
        "\n",
        "    # clip to [0, 1]\n",
        "    x += 0.5\n",
        "    x = np.clip(x, 0, 1)\n",
        "\n",
        "    # convert to RGB array\n",
        "    x *= 255\n",
        "    #x = x.transpose((1, 2, 0))\n",
        "    x = np.clip(x, 0, 255).astype('uint8')\n",
        "    return x\n",
        "\n",
        "def vis_img_in_filter(img = np.array(X_train[2]).reshape((1, 28, 28, 1)).astype(np.float64), \n",
        "                      layer_name = 'conv2d_163'):\n",
        "    layer_output = layer_dict[layer_name].output\n",
        "    img_ascs = list()\n",
        "    for filter_index in range(layer_output.shape[3]):\n",
        "        # build a loss function that maximizes the activation\n",
        "        # of the nth filter of the layer considered\n",
        "        loss = K.mean(layer_output[:, :, :, filter_index])\n",
        "\n",
        "        # compute the gradient of the input picture wrt this loss\n",
        "        grads = K.gradients(loss, model.input)[0]\n",
        "\n",
        "        # normalization trick: we normalize the gradient\n",
        "        grads /= (K.sqrt(K.mean(K.square(grads))) + 1e-5)\n",
        "\n",
        "        # this function returns the loss and grads given the input picture\n",
        "        iterate = K.function([model.input], [loss, grads])\n",
        "\n",
        "        # step size for gradient ascent\n",
        "        step = 5.\n",
        "\n",
        "        img_asc = np.array(img)\n",
        "        # run gradient ascent for 20 steps\n",
        "        for i in range(20):\n",
        "            loss_value, grads_value = iterate([img_asc])\n",
        "            img_asc += grads_value * step\n",
        "\n",
        "        img_asc = img_asc[0]\n",
        "        img_ascs.append(deprocess_image(img_asc).reshape((28, 28)))\n",
        "        \n",
        "    if layer_output.shape[3] >= 35:\n",
        "        plot_x, plot_y = 6, 6\n",
        "    elif layer_output.shape[3] >= 23:\n",
        "        plot_x, plot_y = 4, 6\n",
        "    elif layer_output.shape[3] >= 11:\n",
        "        plot_x, plot_y = 2, 6\n",
        "    else:\n",
        "        plot_x, plot_y = 1, 2\n",
        "    fig, ax = plt.subplots(plot_x, plot_y, figsize = (12, 12))\n",
        "    ax[0, 0].imshow(img.reshape((28, 28)), cmap = 'gray')\n",
        "    ax[0, 0].set_title('Input image')\n",
        "    fig.suptitle('Input image and %s filters' % (layer_name,))\n",
        "    fig.tight_layout(pad = 0.3, rect = [0, 0, 0.9, 0.9])\n",
        "    for (x, y) in [(i, j) for i in range(plot_x) for j in range(plot_y)]:\n",
        "        if x == 0 and y == 0:\n",
        "            continue\n",
        "        ax[x, y].imshow(img_ascs[x * plot_y + y - 1], cmap = 'gray')\n",
        "        ax[x, y].set_title('filter %d' % (x * plot_y + y - 1))\n",
        "\n",
        "vis_img_in_filter()"
      ],
      "execution_count": 252,
      "outputs": [
        {
          "output_type": "error",
          "ename": "KeyError",
          "evalue": "ignored",
          "traceback": [
            "\u001b[0;31m---------------------------------------------------------------------------\u001b[0m",
            "\u001b[0;31mKeyError\u001b[0m                                  Traceback (most recent call last)",
            "\u001b[0;32m<ipython-input-252-2813a9f890ce>\u001b[0m in \u001b[0;36m<module>\u001b[0;34m()\u001b[0m\n\u001b[1;32m     69\u001b[0m         \u001b[0max\u001b[0m\u001b[0;34m[\u001b[0m\u001b[0mx\u001b[0m\u001b[0;34m,\u001b[0m \u001b[0my\u001b[0m\u001b[0;34m]\u001b[0m\u001b[0;34m.\u001b[0m\u001b[0mset_title\u001b[0m\u001b[0;34m(\u001b[0m\u001b[0;34m'filter %d'\u001b[0m \u001b[0;34m%\u001b[0m \u001b[0;34m(\u001b[0m\u001b[0mx\u001b[0m \u001b[0;34m*\u001b[0m \u001b[0mplot_y\u001b[0m \u001b[0;34m+\u001b[0m \u001b[0my\u001b[0m \u001b[0;34m-\u001b[0m \u001b[0;36m1\u001b[0m\u001b[0;34m)\u001b[0m\u001b[0;34m)\u001b[0m\u001b[0;34m\u001b[0m\u001b[0;34m\u001b[0m\u001b[0m\n\u001b[1;32m     70\u001b[0m \u001b[0;34m\u001b[0m\u001b[0m\n\u001b[0;32m---> 71\u001b[0;31m \u001b[0mvis_img_in_filter\u001b[0m\u001b[0;34m(\u001b[0m\u001b[0;34m)\u001b[0m\u001b[0;34m\u001b[0m\u001b[0;34m\u001b[0m\u001b[0m\n\u001b[0m",
            "\u001b[0;32m<ipython-input-252-2813a9f890ce>\u001b[0m in \u001b[0;36mvis_img_in_filter\u001b[0;34m(img, layer_name)\u001b[0m\n\u001b[1;32m     22\u001b[0m def vis_img_in_filter(img = np.array(X_train[2]).reshape((1, 28, 28, 1)).astype(np.float64), \n\u001b[1;32m     23\u001b[0m                       layer_name = 'conv2d_163'):\n\u001b[0;32m---> 24\u001b[0;31m     \u001b[0mlayer_output\u001b[0m \u001b[0;34m=\u001b[0m \u001b[0mlayer_dict\u001b[0m\u001b[0;34m[\u001b[0m\u001b[0mlayer_name\u001b[0m\u001b[0;34m]\u001b[0m\u001b[0;34m.\u001b[0m\u001b[0moutput\u001b[0m\u001b[0;34m\u001b[0m\u001b[0;34m\u001b[0m\u001b[0m\n\u001b[0m\u001b[1;32m     25\u001b[0m     \u001b[0mimg_ascs\u001b[0m \u001b[0;34m=\u001b[0m \u001b[0mlist\u001b[0m\u001b[0;34m(\u001b[0m\u001b[0;34m)\u001b[0m\u001b[0;34m\u001b[0m\u001b[0;34m\u001b[0m\u001b[0m\n\u001b[1;32m     26\u001b[0m     \u001b[0;32mfor\u001b[0m \u001b[0mfilter_index\u001b[0m \u001b[0;32min\u001b[0m \u001b[0mrange\u001b[0m\u001b[0;34m(\u001b[0m\u001b[0mlayer_output\u001b[0m\u001b[0;34m.\u001b[0m\u001b[0mshape\u001b[0m\u001b[0;34m[\u001b[0m\u001b[0;36m3\u001b[0m\u001b[0;34m]\u001b[0m\u001b[0;34m)\u001b[0m\u001b[0;34m:\u001b[0m\u001b[0;34m\u001b[0m\u001b[0;34m\u001b[0m\u001b[0m\n",
            "\u001b[0;31mKeyError\u001b[0m: 'conv2d_163'"
          ]
        }
      ]
    },
    {
      "cell_type": "markdown",
      "metadata": {
        "id": "VAKooJNw-z0U",
        "colab_type": "text"
      },
      "source": [
        "## Observation\n",
        "\n",
        "\n",
        "\n",
        "1.   Increasing batch size reduced training time and improved accuracy.\n",
        "\n",
        "2.   Tweaking number of epochs and learning rate helped to achieve the required validation. \n",
        "\n",
        "\n"
      ]
    }
  ]
}