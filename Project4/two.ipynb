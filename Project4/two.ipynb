{
  "nbformat": 4,
  "nbformat_minor": 0,
  "metadata": {
    "colab": {
      "name": "two.ipynb",
      "version": "0.3.2",
      "provenance": [],
      "collapsed_sections": []
    },
    "kernelspec": {
      "name": "python3",
      "display_name": "Python 3"
    },
    "accelerator": "GPU"
  },
  "cells": [
    {
      "cell_type": "code",
      "metadata": {
        "id": "3m3w1Cw49Zkt",
        "colab_type": "code",
        "colab": {}
      },
      "source": [
        "# https://keras.io/\n",
        "!pip install -q keras\n",
        "import keras"
      ],
      "execution_count": 0,
      "outputs": []
    },
    {
      "cell_type": "markdown",
      "metadata": {
        "id": "aNyZv-Ec52ot",
        "colab_type": "text"
      },
      "source": [
        "## This iterations will observe\n",
        "\n",
        "\n",
        "1.  Validation accuracy to be checked with least number of  filters (and parameters)\n",
        "2.   Maximize accuracy by improving the architecture with Drop out and batch normalization \n",
        "3.   Experiment with Fully Connected layer and observe the advantage of Convolution layer over Fully connected layer, given all else is constant\n",
        "\n",
        "\n"
      ]
    },
    {
      "cell_type": "code",
      "metadata": {
        "id": "Eso6UHE080D4",
        "colab_type": "code",
        "colab": {}
      },
      "source": [
        "import numpy as np\n",
        "\n",
        "from keras.models import Sequential\n",
        "from keras.layers import Dense, Dropout, Activation, Flatten, Add, BatchNormalization\n",
        "from keras.layers import Convolution2D, Conv2D, MaxPooling2D\n",
        "from keras.utils import np_utils\n",
        "\n",
        "from keras.datasets import mnist"
      ],
      "execution_count": 0,
      "outputs": []
    },
    {
      "cell_type": "markdown",
      "metadata": {
        "id": "zByEi95J86RD",
        "colab_type": "text"
      },
      "source": [
        "### Load pre-shuffled MNIST data into train and test sets"
      ]
    },
    {
      "cell_type": "code",
      "metadata": {
        "id": "7eRM0QWN83PV",
        "colab_type": "code",
        "colab": {}
      },
      "source": [
        "(X_train, y_train), (X_test, y_test) = mnist.load_data()"
      ],
      "execution_count": 0,
      "outputs": []
    },
    {
      "cell_type": "code",
      "metadata": {
        "id": "4a4Be72j8-ZC",
        "colab_type": "code",
        "outputId": "78fa2fd3-5dac-43ee-8186-92c292662c7b",
        "colab": {
          "base_uri": "https://localhost:8080/",
          "height": 303
        }
      },
      "source": [
        "print (X_train.shape)\n",
        "from matplotlib import pyplot as plt\n",
        "%matplotlib inline\n",
        "plt.imshow(X_train[0])"
      ],
      "execution_count": 236,
      "outputs": [
        {
          "output_type": "stream",
          "text": [
            "(60000, 28, 28)\n"
          ],
          "name": "stdout"
        },
        {
          "output_type": "execute_result",
          "data": {
            "text/plain": [
              "<matplotlib.image.AxesImage at 0x7f5e6101bf60>"
            ]
          },
          "metadata": {
            "tags": []
          },
          "execution_count": 236
        },
        {
          "output_type": "display_data",
          "data": {
            "image/png": "[encoded data removed]",
            "text/plain": [
              "<Figure size 432x288 with 1 Axes>"
            ]
          },
          "metadata": {
            "tags": []
          }
        }
      ]
    },
    {
      "cell_type": "code",
      "metadata": {
        "id": "dkmprriw9AnZ",
        "colab_type": "code",
        "colab": {}
      },
      "source": [
        "X_train = X_train.reshape(X_train.shape[0], 28, 28,1)\n",
        "X_test = X_test.reshape(X_test.shape[0], 28, 28,1)"
      ],
      "execution_count": 0,
      "outputs": []
    },
    {
      "cell_type": "code",
      "metadata": {
        "id": "X2m4YS4E9CRh",
        "colab_type": "code",
        "colab": {}
      },
      "source": [
        "X_train = X_train.astype('float32')\n",
        "X_test = X_test.astype('float32')\n",
        "X_train /= 255\n",
        "X_test /= 255"
      ],
      "execution_count": 0,
      "outputs": []
    },
    {
      "cell_type": "code",
      "metadata": {
        "id": "0Mn0vAYD9DvB",
        "colab_type": "code",
        "outputId": "e2e170f9-99a0-417f-8db0-ef2b26e6a372",
        "colab": {
          "base_uri": "https://localhost:8080/",
          "height": 34
        }
      },
      "source": [
        "y_train[:10]"
      ],
      "execution_count": 239,
      "outputs": [
        {
          "output_type": "execute_result",
          "data": {
            "text/plain": [
              "array([5, 0, 4, 1, 9, 2, 1, 3, 1, 4], dtype=uint8)"
            ]
          },
          "metadata": {
            "tags": []
          },
          "execution_count": 239
        }
      ]
    },
    {
      "cell_type": "code",
      "metadata": {
        "id": "ZG8JiXR39FHC",
        "colab_type": "code",
        "colab": {}
      },
      "source": [
        "# Convert 1-dimensional class arrays to 10-dimensional class matrices\n",
        "Y_train = np_utils.to_categorical(y_train, 10)\n",
        "Y_test = np_utils.to_categorical(y_test, 10)"
      ],
      "execution_count": 0,
      "outputs": []
    },
    {
      "cell_type": "code",
      "metadata": {
        "id": "fYlFRvKS9HMB",
        "colab_type": "code",
        "outputId": "c18e415a-3de1-495c-9591-59c1cb0ffd80",
        "colab": {
          "base_uri": "https://localhost:8080/",
          "height": 187
        }
      },
      "source": [
        "Y_train[:10]\n"
      ],
      "execution_count": 242,
      "outputs": [
        {
          "output_type": "execute_result",
          "data": {
            "text/plain": [
              "array([[0., 0., 0., 0., 0., 1., 0., 0., 0., 0.],\n",
              "       [1., 0., 0., 0., 0., 0., 0., 0., 0., 0.],\n",
              "       [0., 0., 0., 0., 1., 0., 0., 0., 0., 0.],\n",
              "       [0., 1., 0., 0., 0., 0., 0., 0., 0., 0.],\n",
              "       [0., 0., 0., 0., 0., 0., 0., 0., 0., 1.],\n",
              "       [0., 0., 1., 0., 0., 0., 0., 0., 0., 0.],\n",
              "       [0., 1., 0., 0., 0., 0., 0., 0., 0., 0.],\n",
              "       [0., 0., 0., 1., 0., 0., 0., 0., 0., 0.],\n",
              "       [0., 1., 0., 0., 0., 0., 0., 0., 0., 0.],\n",
              "       [0., 0., 0., 0., 1., 0., 0., 0., 0., 0.]], dtype=float32)"
            ]
          },
          "metadata": {
            "tags": []
          },
          "execution_count": 242
        }
      ]
    },
    {
      "cell_type": "code",
      "metadata": {
        "id": "osKqT73Q9JJB",
        "colab_type": "code",
        "colab": {}
      },
      "source": [
        "from keras.layers import Activation\n",
        "model = Sequential()\n",
        "\n",
        "model.add(Conv2D(8, (3,3), activation='relu', input_shape=(28,28,1))) #26x26x16, RF 3x3\n",
        "model.add(BatchNormalization())\n",
        "\n",
        "\n",
        "model.add(Conv2D(16, (3,3), activation='relu')) # 24x24x16 , RF 5x5\n",
        "model.add(BatchNormalization())\n",
        "model.add(Conv2D(32, (3,3), activation='relu')) # 22x22x32 , RF 7x7\n",
        "model.add(BatchNormalization())\n",
        "\n",
        "model.add(MaxPooling2D(pool_size=(2, 2))) # 11x11x32 , RF 14x14\n",
        "# model.add(Dense(8))\n",
        "model.add(Conv2D(8, (1, 1), activation='relu')) # 11x11x16\n",
        "model.add(BatchNormalization())\n",
        "model.add(Dropout(0.20))\n",
        "\n",
        "model.add(Conv2D(16, (3,3), activation='relu')) # 9x9x32 , RF 16x16\n",
        "model.add(BatchNormalization())\n",
        "model.add(Conv2D(32, (3,3), activation='relu')) # 7x7x64 , RF 18x18\n",
        "model.add(BatchNormalization())\n",
        "\n",
        "model.add(Conv2D(16, 1, activation='relu')) # 7x7x16\n",
        "\n",
        "model.add(Conv2D(10, 7)) # 1x1x10\n",
        "model.add(Flatten()) # 1x10\n",
        "# model.add(Dense(10))\n",
        "model.add(Activation('softmax'))\n",
        " "
      ],
      "execution_count": 0,
      "outputs": []
    },
    {
      "cell_type": "code",
      "metadata": {
        "id": "TzdAYg1k9K7Z",
        "colab_type": "code",
        "outputId": "81a8ce40-ec98-45d7-f1c5-5a3b50281cc5",
        "colab": {
          "base_uri": "https://localhost:8080/",
          "height": 748
        }
      },
      "source": [
        "model.summary()"
      ],
      "execution_count": 243,
      "outputs": [
        {
          "output_type": "stream",
          "text": [
            "_________________________________________________________________\n",
            "Layer (type)                 Output Shape              Param #   \n",
            "=================================================================\n",
            "conv2d_128 (Conv2D)          (None, 26, 26, 8)         80        \n",
            "_________________________________________________________________\n",
            "batch_normalization_83 (Batc (None, 26, 26, 8)         32        \n",
            "_________________________________________________________________\n",
            "conv2d_129 (Conv2D)          (None, 24, 24, 16)        1168      \n",
            "_________________________________________________________________\n",
            "batch_normalization_84 (Batc (None, 24, 24, 16)        64        \n",
            "_________________________________________________________________\n",
            "conv2d_130 (Conv2D)          (None, 22, 22, 32)        4640      \n",
            "_________________________________________________________________\n",
            "batch_normalization_85 (Batc (None, 22, 22, 32)        128       \n",
            "_________________________________________________________________\n",
            "max_pooling2d_18 (MaxPooling (None, 11, 11, 32)        0         \n",
            "_________________________________________________________________\n",
            "conv2d_131 (Conv2D)          (None, 11, 11, 8)         264       \n",
            "_________________________________________________________________\n",
            "batch_normalization_86 (Batc (None, 11, 11, 8)         32        \n",
            "_________________________________________________________________\n",
            "dropout_12 (Dropout)         (None, 11, 11, 8)         0         \n",
            "_________________________________________________________________\n",
            "conv2d_132 (Conv2D)          (None, 9, 9, 16)          1168      \n",
            "_________________________________________________________________\n",
            "batch_normalization_87 (Batc (None, 9, 9, 16)          64        \n",
            "_________________________________________________________________\n",
            "conv2d_133 (Conv2D)          (None, 7, 7, 32)          4640      \n",
            "_________________________________________________________________\n",
            "batch_normalization_88 (Batc (None, 7, 7, 32)          128       \n",
            "_________________________________________________________________\n",
            "conv2d_134 (Conv2D)          (None, 7, 7, 16)          528       \n",
            "_________________________________________________________________\n",
            "conv2d_135 (Conv2D)          (None, 1, 1, 10)          7850      \n",
            "_________________________________________________________________\n",
            "flatten_17 (Flatten)         (None, 10)                0         \n",
            "_________________________________________________________________\n",
            "activation_18 (Activation)   (None, 10)                0         \n",
            "=================================================================\n",
            "Total params: 20,786\n",
            "Trainable params: 20,562\n",
            "Non-trainable params: 224\n",
            "_________________________________________________________________\n"
          ],
          "name": "stdout"
        }
      ]
    },
    {
      "cell_type": "code",
      "metadata": {
        "id": "Zp6SuGrL9M3h",
        "colab_type": "code",
        "colab": {}
      },
      "source": [
        "model.compile(loss='categorical_crossentropy',\n",
        "             optimizer='adam',\n",
        "             metrics=['accuracy'])"
      ],
      "execution_count": 0,
      "outputs": []
    },
    {
      "cell_type": "code",
      "metadata": {
        "id": "4xWoKhPY9Of5",
        "colab_type": "code",
        "outputId": "33ac611f-a646-484a-98d5-b544adae85ca",
        "colab": {
          "base_uri": "https://localhost:8080/",
          "height": 425
        }
      },
      "source": [
        "model.fit(X_train, Y_train, batch_size=32, nb_epoch=10, verbose=1, validation_data=(X_test, Y_test))"
      ],
      "execution_count": 245,
      "outputs": [
        {
          "output_type": "stream",
          "text": [
            "/usr/local/lib/python3.6/dist-packages/ipykernel_launcher.py:1: UserWarning: The `nb_epoch` argument in `fit` has been renamed `epochs`.\n",
            "  \"\"\"Entry point for launching an IPython kernel.\n"
          ],
          "name": "stderr"
        },
        {
          "output_type": "stream",
          "text": [
            "Train on 60000 samples, validate on 10000 samples\n",
            "Epoch 1/10\n",
            "60000/60000 [==============================] - 28s 471us/step - loss: 0.1506 - acc: 0.9532 - val_loss: 0.0548 - val_acc: 0.9826\n",
            "Epoch 2/10\n",
            "60000/60000 [==============================] - 22s 370us/step - loss: 0.0548 - acc: 0.9832 - val_loss: 0.0359 - val_acc: 0.9875\n",
            "Epoch 3/10\n",
            "60000/60000 [==============================] - 21s 353us/step - loss: 0.0415 - acc: 0.9872 - val_loss: 0.0278 - val_acc: 0.9905\n",
            "Epoch 4/10\n",
            "60000/60000 [==============================] - 21s 352us/step - loss: 0.0355 - acc: 0.9890 - val_loss: 0.0306 - val_acc: 0.9902\n",
            "Epoch 5/10\n",
            "60000/60000 [==============================] - 21s 351us/step - loss: 0.0303 - acc: 0.9905 - val_loss: 0.0274 - val_acc: 0.9901\n",
            "Epoch 6/10\n",
            "60000/60000 [==============================] - 23s 379us/step - loss: 0.0274 - acc: 0.9910 - val_loss: 0.0307 - val_acc: 0.9901\n",
            "Epoch 7/10\n",
            "60000/60000 [==============================] - 22s 367us/step - loss: 0.0225 - acc: 0.9926 - val_loss: 0.0248 - val_acc: 0.9912\n",
            "Epoch 8/10\n",
            "60000/60000 [==============================] - 21s 349us/step - loss: 0.0208 - acc: 0.9931 - val_loss: 0.0357 - val_acc: 0.9890\n",
            "Epoch 9/10\n",
            "60000/60000 [==============================] - 21s 348us/step - loss: 0.0205 - acc: 0.9935 - val_loss: 0.0218 - val_acc: 0.9932\n",
            "Epoch 10/10\n",
            "60000/60000 [==============================] - 22s 367us/step - loss: 0.0184 - acc: 0.9942 - val_loss: 0.0262 - val_acc: 0.9916\n"
          ],
          "name": "stdout"
        },
        {
          "output_type": "execute_result",
          "data": {
            "text/plain": [
              "<keras.callbacks.History at 0x7f5e5f6133c8>"
            ]
          },
          "metadata": {
            "tags": []
          },
          "execution_count": 245
        }
      ]
    },
    {
      "cell_type": "code",
      "metadata": {
        "id": "AtsH-lLk-eLb",
        "colab_type": "code",
        "colab": {}
      },
      "source": [
        "score = model.evaluate(X_test, Y_test, verbose=0)"
      ],
      "execution_count": 0,
      "outputs": []
    },
    {
      "cell_type": "code",
      "metadata": {
        "id": "mkX8JMv79q9r",
        "colab_type": "code",
        "outputId": "ca1b04db-4e87-42a3-892f-d8ceba3582f1",
        "colab": {
          "base_uri": "https://localhost:8080/",
          "height": 34
        }
      },
      "source": [
        "print(score)"
      ],
      "execution_count": 247,
      "outputs": [
        {
          "output_type": "stream",
          "text": [
            "[0.026192511223663315, 0.9916]\n"
          ],
          "name": "stdout"
        }
      ]
    },
    {
      "cell_type": "code",
      "metadata": {
        "id": "OCWoJkwE9suh",
        "colab_type": "code",
        "colab": {}
      },
      "source": [
        "y_pred = model.predict(X_test)"
      ],
      "execution_count": 0,
      "outputs": []
    },
    {
      "cell_type": "code",
      "metadata": {
        "id": "Ym7iCFBm9uBs",
        "colab_type": "code",
        "outputId": "78788554-9e27-437f-978f-d5e0852eb2ed",
        "colab": {
          "base_uri": "https://localhost:8080/",
          "height": 493
        }
      },
      "source": [
        "print(y_pred[:9])\n",
        "print(y_test[:9])"
      ],
      "execution_count": 249,
      "outputs": [
        {
          "output_type": "stream",
          "text": [
            "[[1.51295657e-10 8.92958624e-11 1.09352463e-07 9.11480470e-07\n",
            "  8.19472474e-13 2.44413051e-14 1.47398715e-18 9.99998808e-01\n",
            "  3.92511357e-09 1.05039334e-07]\n",
            " [5.79607729e-07 2.99485947e-09 9.99999046e-01 2.09766492e-11\n",
            "  1.55246624e-08 9.80818667e-15 4.92008247e-08 8.28306979e-10\n",
            "  1.92050308e-07 3.50660646e-12]\n",
            " [2.46871945e-09 9.99996781e-01 2.17438043e-07 5.03137052e-08\n",
            "  5.04058448e-07 1.22562284e-07 6.85879854e-07 1.21316532e-06\n",
            "  4.76212335e-07 5.87228544e-10]\n",
            " [9.99297738e-01 8.05362585e-14 4.80623008e-08 2.07669237e-09\n",
            "  7.95810706e-08 6.12336315e-09 2.96165254e-05 8.05524820e-08\n",
            "  3.32762793e-05 6.39168429e-04]\n",
            " [1.54054096e-11 7.15915729e-11 1.40711209e-09 9.55457380e-11\n",
            "  9.99983668e-01 2.14348417e-12 6.36543818e-10 1.70747565e-11\n",
            "  9.50677531e-07 1.54199661e-05]\n",
            " [4.25807523e-09 9.99988437e-01 4.69526526e-07 2.85481350e-09\n",
            "  1.69024315e-06 4.00293132e-09 4.68331400e-08 9.00540635e-06\n",
            "  3.64852895e-07 2.14404539e-09]\n",
            " [3.08077761e-17 1.58881086e-08 1.02575992e-09 1.32395125e-15\n",
            "  9.99889374e-01 6.14271383e-13 1.59713768e-13 1.73739756e-09\n",
            "  9.65730724e-05 1.40391685e-05]\n",
            " [6.58549211e-14 5.80638575e-12 3.21421467e-08 5.32568156e-11\n",
            "  7.40256746e-06 4.54473438e-11 2.74689397e-16 3.40912507e-11\n",
            "  3.15122719e-07 9.99992251e-01]\n",
            " [7.38846553e-11 1.76957920e-15 1.19382393e-09 6.88545471e-11\n",
            "  2.35133113e-09 9.95598137e-01 4.96107095e-04 2.93304161e-12\n",
            "  3.90504743e-03 7.08757966e-07]]\n",
            "[7 2 1 0 4 1 4 9 5]\n"
          ],
          "name": "stdout"
        }
      ]
    },
    {
      "cell_type": "code",
      "metadata": {
        "id": "CT--y98_dr2T",
        "colab_type": "code",
        "colab": {}
      },
      "source": [
        "layer_dict = dict([(layer.name, layer) for layer in model.layers])"
      ],
      "execution_count": 0,
      "outputs": []
    },
    {
      "cell_type": "code",
      "metadata": {
        "id": "2GY4Upv4dsUR",
        "colab_type": "code",
        "outputId": "dd29863d-5f3c-4751-aa0b-0efe2900dad9",
        "colab": {
          "base_uri": "https://localhost:8080/",
          "height": 741
        }
      },
      "source": [
        "import numpy as np\n",
        "from matplotlib import pyplot as plt\n",
        "from keras import backend as K\n",
        "%matplotlib inline\n",
        "# util function to convert a tensor into a valid image\n",
        "def deprocess_image(x):\n",
        "    # normalize tensor: center on 0., ensure std is 0.1\n",
        "    x -= x.mean()\n",
        "    x /= (x.std() + 1e-5)\n",
        "    x *= 0.1\n",
        "\n",
        "    # clip to [0, 1]\n",
        "    x += 0.5\n",
        "    x = np.clip(x, 0, 1)\n",
        "\n",
        "    # convert to RGB array\n",
        "    x *= 255\n",
        "    #x = x.transpose((1, 2, 0))\n",
        "    x = np.clip(x, 0, 255).astype('uint8')\n",
        "    return x\n",
        "\n",
        "def vis_img_in_filter(img = np.array(X_train[2]).reshape((1, 28, 28, 1)).astype(np.float64), \n",
        "                      layer_name = 'conv2d_129'):\n",
        "    layer_output = layer_dict[layer_name].output\n",
        "    img_ascs = list()\n",
        "    for filter_index in range(layer_output.shape[3]):\n",
        "        # build a loss function that maximizes the activation\n",
        "        # of the nth filter of the layer considered\n",
        "        loss = K.mean(layer_output[:, :, :, filter_index])\n",
        "\n",
        "        # compute the gradient of the input picture wrt this loss\n",
        "        grads = K.gradients(loss, model.input)[0]\n",
        "\n",
        "        # normalization trick: we normalize the gradient\n",
        "        grads /= (K.sqrt(K.mean(K.square(grads))) + 1e-5)\n",
        "\n",
        "        # this function returns the loss and grads given the input picture\n",
        "        iterate = K.function([model.input], [loss, grads])\n",
        "\n",
        "        # step size for gradient ascent\n",
        "        step = 5.\n",
        "\n",
        "        img_asc = np.array(img)\n",
        "        # run gradient ascent for 20 steps\n",
        "        for i in range(20):\n",
        "            loss_value, grads_value = iterate([img_asc])\n",
        "            img_asc += grads_value * step\n",
        "\n",
        "        img_asc = img_asc[0]\n",
        "        img_ascs.append(deprocess_image(img_asc).reshape((28, 28)))\n",
        "        \n",
        "    if layer_output.shape[3] >= 35:\n",
        "        plot_x, plot_y = 6, 6\n",
        "    elif layer_output.shape[3] >= 23:\n",
        "        plot_x, plot_y = 4, 6\n",
        "    elif layer_output.shape[3] >= 11:\n",
        "        plot_x, plot_y = 2, 6\n",
        "    else:\n",
        "        plot_x, plot_y = 1, 2\n",
        "    fig, ax = plt.subplots(plot_x, plot_y, figsize = (12, 12))\n",
        "    ax[0, 0].imshow(img.reshape((28, 28)), cmap = 'gray')\n",
        "    ax[0, 0].set_title('Input image')\n",
        "    fig.suptitle('Input image and %s filters' % (layer_name,))\n",
        "    fig.tight_layout(pad = 0.3, rect = [0, 0, 0.9, 0.9])\n",
        "    for (x, y) in [(i, j) for i in range(plot_x) for j in range(plot_y)]:\n",
        "        if x == 0 and y == 0:\n",
        "            continue\n",
        "        ax[x, y].imshow(img_ascs[x * plot_y + y - 1], cmap = 'gray')\n",
        "        ax[x, y].set_title('filter %d' % (x * plot_y + y - 1))\n",
        "\n",
        "vis_img_in_filter()"
      ],
      "execution_count": 252,
      "outputs": [
        {
          "output_type": "display_data",
          "data": {
            "image/png": "[encoded data removed]",
            "text/plain": [
              "<Figure size 864x864 with 12 Axes>"
            ]
          },
          "metadata": {
            "tags": []
          }
        }
      ]
    },
    {
      "cell_type": "markdown",
      "metadata": {
        "id": "VAKooJNw-z0U",
        "colab_type": "text"
      },
      "source": [
        "## Observation\n",
        "\n",
        "#### Without Dense layer\n",
        "Validation Accuracy:99.16%;\n",
        "Parameters: 20.7k\n",
        "\n",
        "\n",
        "#### With Dense layer\n",
        "Validation Accuracy:99.07%;\n",
        " Parameters: 28k\n",
        "\n",
        "\n",
        "1.   With all configurations remaining same, replacing 1x1 convolution layer by dense layer showed no significant improvement in the accuracy but significantly increased the number of parameters. The duration of each epoch also increased\n",
        "\n"
      ]
    },
    {
      "cell_type": "markdown",
      "metadata": {
        "id": "e9Rmj1LG8A78",
        "colab_type": "text"
      },
      "source": [
        "## Scope for improvement\n",
        "\n",
        "\n",
        "\n",
        "\n",
        "1.   Owing to the low trade off,  Fully Connected Layer needs to be removed\n",
        "2.   Prevent network overfitting.\n",
        "2.   Improve accuracy by improving architecture further\n",
        "\n",
        "\n",
        "\n",
        "\n",
        "\n",
        "\n"
      ]
    }
  ]
}